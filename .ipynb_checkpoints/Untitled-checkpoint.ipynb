{
 "cells": [
  {
   "cell_type": "code",
   "execution_count": 55,
   "metadata": {
    "collapsed": false
   },
   "outputs": [
    {
     "name": "stdout",
     "output_type": "stream",
     "text": [
      "RGB4 Images.Image with:\n",
      "  data: 4250x5500 Array{ColorTypes.RGB4{FixedPointNumbers.UFixed{UInt8,8}},2}\n",
      "  properties:\n",
      "    imagedescription: <suppressed>\n",
      "    spatialorder:  x y\n",
      "    pixelspacing:  1 1"
     ]
    }
   ],
   "source": [
    "using Images, ImageMagick, Colors, ImageView, TestImages\n",
    "\n",
    "img = load(\"/Users/alex/GitHub/TreeBark/Geraniales-tree.jpg\")\n",
    "#show(img)\n",
    "\n"
   ]
  },
  {
   "cell_type": "code",
   "execution_count": null,
   "metadata": {
    "collapsed": true
   },
   "outputs": [],
   "source": []
  }
 ],
 "metadata": {
  "kernelspec": {
   "display_name": "Julia 0.4.3",
   "language": "julia",
   "name": "julia-0.4"
  },
  "language_info": {
   "file_extension": ".jl",
   "mimetype": "application/julia",
   "name": "julia",
   "version": "0.4.3"
  }
 },
 "nbformat": 4,
 "nbformat_minor": 0
}
