{
 "cells": [
  {
   "cell_type": "code",
   "execution_count": 7,
   "metadata": {
    "collapsed": false
   },
   "outputs": [],
   "source": [
    "import sys\n",
    "import pytesseract\n",
    "from PIL import Image\n",
    "from PIL import ImageFilter\n"
   ]
  },
  {
   "cell_type": "code",
   "execution_count": 64,
   "metadata": {
    "collapsed": false,
    "scrolled": true
   },
   "outputs": [
    {
     "name": "stdout",
     "output_type": "stream",
     "text": [
      "Pe|.fulgidum\n",
      "Pel.incrassatum\n",
      "Pel.echinatum\n",
      "Pel.nanum\n",
      "Pel.citronellum\n",
      "Pel.dichondrifolium\n",
      "Pel.exstipulatum\n",
      "Pel.australe\n",
      "Pel.cotyledonis\n",
      "Pel.hortorum\n",
      "Pel.transvaa|ense\n",
      "Pel.myrrhifo|ium\n",
      "Pel.tetragonum\n",
      "Ero.chrysanthum\n",
      "Ero.gruinum\n",
      "Ero.texanum\n",
      "Ero.cheilanthifolium\n",
      "Ero.trifo|ium\n",
      "Calmacrophylla\n",
      "Ger.incanum\n",
      "Ger.phaeum\n",
      "Germaderense\n",
      "Mon.emarginata\n",
      "Monmarlothii\n",
      "Hyp.bilobata\n",
      "Fra.sonchifolia\n",
      "Mel.vi|losus\n"
     ]
    }
   ],
   "source": [
    "def iswhite(value):\n",
    "    if value == (255,255,255):\n",
    "        return True\n",
    "\n",
    "# Open the tree file, convert to b&w, extract tip ids with OCR\n",
    "\n",
    "img = Image.open(\"/Users/alex/GitHub/TreeBark/Geraniales-tree.jpg\")\n",
    "img = img.convert('1')\n",
    "print(pytesseract.image_to_string(img))\n",
    "\n",
    "\n",
    "\n"
   ]
  },
  {
   "cell_type": "code",
   "execution_count": 56,
   "metadata": {
    "collapsed": false
   },
   "outputs": [
    {
     "data": {
      "text/plain": [
       "'Pe|.fulgidum\\nPel.incrassatum\\nPel.echinatum\\nPel.nanum\\nPel.citronellum\\nPel.dichondrifolium\\nPel.exstipulatum\\nPel.australe\\nPel.cotyledonis\\nPel.hortorum\\nPel.transvaa|ense\\nPel.myrrhifo|ium\\nPel.tetragonum\\nEro.chrysanthum\\nEro.gruinum\\nEro.texanum\\nEro.cheilanthifolium\\nEro.trifo|ium\\nCalmacrophylla\\nGer.incanum\\nGer.phaeum\\nGermaderense\\nMon.emarginata\\nMonmarlothii\\nHyp.bilobata\\nFra.sonchifolia\\nMel.vi|losus'"
      ]
     },
     "execution_count": 56,
     "metadata": {},
     "output_type": "execute_result"
    }
   ],
   "source": []
  },
  {
   "cell_type": "code",
   "execution_count": null,
   "metadata": {
    "collapsed": true
   },
   "outputs": [],
   "source": []
  }
 ],
 "metadata": {
  "kernelspec": {
   "display_name": "Python 2",
   "language": "python",
   "name": "python2"
  },
  "language_info": {
   "codemirror_mode": {
    "name": "ipython",
    "version": 2
   },
   "file_extension": ".py",
   "mimetype": "text/x-python",
   "name": "python",
   "nbconvert_exporter": "python",
   "pygments_lexer": "ipython2",
   "version": "2.7.11"
  }
 },
 "nbformat": 4,
 "nbformat_minor": 0
}
